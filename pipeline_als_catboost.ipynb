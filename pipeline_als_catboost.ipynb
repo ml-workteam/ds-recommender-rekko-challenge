{
 "cells": [
  {
   "cell_type": "markdown",
   "metadata": {},
   "source": [
    "### ALS on Transactions and CatBoost Stacking\n",
    "Plus ALS Rating + ALS Bookmarks"
   ]
  },
  {
   "cell_type": "code",
   "execution_count": 1,
   "metadata": {},
   "outputs": [],
   "source": [
    "import dataset_utils as du\n",
    "import pandas as pd\n",
    "import matplotlib.pyplot as plt\n",
    "import metric_utils as mu\n",
    "import als_model as als\n",
    "import json\n",
    "%matplotlib inline"
   ]
  },
  {
   "cell_type": "markdown",
   "metadata": {},
   "source": [
    "### Load Data and make Dataset"
   ]
  },
  {
   "cell_type": "code",
   "execution_count": 2,
   "metadata": {},
   "outputs": [],
   "source": [
    "tr = du.processTransactions(use_cashe=True)\n",
    "bookmarks = du.processBookmarks()\n",
    "ratings = du.processRatings()\n",
    "catalogue = du.processCatalogue()"
   ]
  },
  {
   "cell_type": "code",
   "execution_count": 5,
   "metadata": {},
   "outputs": [],
   "source": [
    "# random split transactions 70/30 for ALS/CatBoost\n",
    "from sklearn.model_selection import train_test_split\n",
    "tr_als, tr_cb = train_test_split(tr, train_size=0.7)"
   ]
  },
  {
   "cell_type": "code",
   "execution_count": 8,
   "metadata": {},
   "outputs": [
    {
     "data": {
      "text/html": [
       "<div>\n",
       "<style scoped>\n",
       "    .dataframe tbody tr th:only-of-type {\n",
       "        vertical-align: middle;\n",
       "    }\n",
       "\n",
       "    .dataframe tbody tr th {\n",
       "        vertical-align: top;\n",
       "    }\n",
       "\n",
       "    .dataframe thead th {\n",
       "        text-align: right;\n",
       "    }\n",
       "</style>\n",
       "<table border=\"1\" class=\"dataframe\">\n",
       "  <thead>\n",
       "    <tr style=\"text-align: right;\">\n",
       "      <th></th>\n",
       "      <th>element_uid</th>\n",
       "      <th>user_uid</th>\n",
       "      <th>consumption_mode</th>\n",
       "      <th>ts</th>\n",
       "      <th>watched_time</th>\n",
       "      <th>device_type</th>\n",
       "      <th>device_manufacturer</th>\n",
       "    </tr>\n",
       "  </thead>\n",
       "  <tbody>\n",
       "    <tr>\n",
       "      <td>2049083</td>\n",
       "      <td>8116</td>\n",
       "      <td>531296</td>\n",
       "      <td>P</td>\n",
       "      <td>4.381100e+07</td>\n",
       "      <td>150</td>\n",
       "      <td>1</td>\n",
       "      <td>90</td>\n",
       "    </tr>\n",
       "    <tr>\n",
       "      <td>1634286</td>\n",
       "      <td>1636</td>\n",
       "      <td>115484</td>\n",
       "      <td>S</td>\n",
       "      <td>4.390455e+07</td>\n",
       "      <td>5511</td>\n",
       "      <td>0</td>\n",
       "      <td>50</td>\n",
       "    </tr>\n",
       "    <tr>\n",
       "      <td>6032367</td>\n",
       "      <td>2235</td>\n",
       "      <td>206090</td>\n",
       "      <td>S</td>\n",
       "      <td>4.282467e+07</td>\n",
       "      <td>2287</td>\n",
       "      <td>0</td>\n",
       "      <td>99</td>\n",
       "    </tr>\n",
       "    <tr>\n",
       "      <td>7484739</td>\n",
       "      <td>3708</td>\n",
       "      <td>76392</td>\n",
       "      <td>S</td>\n",
       "      <td>4.234948e+07</td>\n",
       "      <td>5505</td>\n",
       "      <td>0</td>\n",
       "      <td>50</td>\n",
       "    </tr>\n",
       "    <tr>\n",
       "      <td>1549211</td>\n",
       "      <td>388</td>\n",
       "      <td>511615</td>\n",
       "      <td>S</td>\n",
       "      <td>4.392661e+07</td>\n",
       "      <td>6987</td>\n",
       "      <td>5</td>\n",
       "      <td>90</td>\n",
       "    </tr>\n",
       "    <tr>\n",
       "      <td>...</td>\n",
       "      <td>...</td>\n",
       "      <td>...</td>\n",
       "      <td>...</td>\n",
       "      <td>...</td>\n",
       "      <td>...</td>\n",
       "      <td>...</td>\n",
       "      <td>...</td>\n",
       "    </tr>\n",
       "    <tr>\n",
       "      <td>4198965</td>\n",
       "      <td>4141</td>\n",
       "      <td>91546</td>\n",
       "      <td>S</td>\n",
       "      <td>4.329237e+07</td>\n",
       "      <td>18822</td>\n",
       "      <td>3</td>\n",
       "      <td>99</td>\n",
       "    </tr>\n",
       "    <tr>\n",
       "      <td>6770820</td>\n",
       "      <td>9491</td>\n",
       "      <td>464684</td>\n",
       "      <td>R</td>\n",
       "      <td>4.259463e+07</td>\n",
       "      <td>5870</td>\n",
       "      <td>0</td>\n",
       "      <td>50</td>\n",
       "    </tr>\n",
       "    <tr>\n",
       "      <td>8413730</td>\n",
       "      <td>9835</td>\n",
       "      <td>244819</td>\n",
       "      <td>S</td>\n",
       "      <td>4.207837e+07</td>\n",
       "      <td>5941</td>\n",
       "      <td>0</td>\n",
       "      <td>50</td>\n",
       "    </tr>\n",
       "    <tr>\n",
       "      <td>1327745</td>\n",
       "      <td>7913</td>\n",
       "      <td>497643</td>\n",
       "      <td>S</td>\n",
       "      <td>4.398038e+07</td>\n",
       "      <td>6842</td>\n",
       "      <td>5</td>\n",
       "      <td>90</td>\n",
       "    </tr>\n",
       "    <tr>\n",
       "      <td>4892812</td>\n",
       "      <td>5845</td>\n",
       "      <td>444023</td>\n",
       "      <td>S</td>\n",
       "      <td>4.312846e+07</td>\n",
       "      <td>146519</td>\n",
       "      <td>0</td>\n",
       "      <td>50</td>\n",
       "    </tr>\n",
       "  </tbody>\n",
       "</table>\n",
       "<p>2892904 rows × 7 columns</p>\n",
       "</div>"
      ],
      "text/plain": [
       "         element_uid  user_uid consumption_mode            ts  watched_time  \\\n",
       "2049083         8116    531296                P  4.381100e+07           150   \n",
       "1634286         1636    115484                S  4.390455e+07          5511   \n",
       "6032367         2235    206090                S  4.282467e+07          2287   \n",
       "7484739         3708     76392                S  4.234948e+07          5505   \n",
       "1549211          388    511615                S  4.392661e+07          6987   \n",
       "...              ...       ...              ...           ...           ...   \n",
       "4198965         4141     91546                S  4.329237e+07         18822   \n",
       "6770820         9491    464684                R  4.259463e+07          5870   \n",
       "8413730         9835    244819                S  4.207837e+07          5941   \n",
       "1327745         7913    497643                S  4.398038e+07          6842   \n",
       "4892812         5845    444023                S  4.312846e+07        146519   \n",
       "\n",
       "         device_type  device_manufacturer  \n",
       "2049083            1                   90  \n",
       "1634286            0                   50  \n",
       "6032367            0                   99  \n",
       "7484739            0                   50  \n",
       "1549211            5                   90  \n",
       "...              ...                  ...  \n",
       "4198965            3                   99  \n",
       "6770820            0                   50  \n",
       "8413730            0                   50  \n",
       "1327745            5                   90  \n",
       "4892812            0                   50  \n",
       "\n",
       "[2892904 rows x 7 columns]"
      ]
     },
     "execution_count": 8,
     "metadata": {},
     "output_type": "execute_result"
    }
   ],
   "source": [
    "tr_cb"
   ]
  },
  {
   "cell_type": "markdown",
   "metadata": {},
   "source": [
    "### Tune Parameters"
   ]
  },
  {
   "cell_type": "code",
   "execution_count": 3,
   "metadata": {},
   "outputs": [],
   "source": [
    "tr = du.processTransactions(use_cashe=True)\n",
    "tr_train, tr_val = du.trainvalTransactions(tr, border=0.95)\n",
    "# these params perform best:\n",
    "# rating_params = {'bookmarked': 7, 'purchased': 11, \n",
    "#                              'watched_movie': 8, 'watched_series': 9, 'watch_failed': 2}\n",
    "\n",
    "# try this mix\n",
    "rating_params = {'bookmarked': 5, 'purchased': 10, \n",
    "                             'watched_movie': 8, 'watched_series': 9, 'watch_failed': 1}\n",
    "#ds_train = du.makeTarget(tr_train, du.processCatalogue(), du.processBookmarks(), du.processRatings(), params = rating_params)\n",
    "ds_val = du.makeTarget(tr_val, du.processCatalogue(), du.processBookmarks(), du.processRatings(), params = rating_params)\n",
    "ds_val = ds_val[ds_val['tr_rating'] > rating_params['watch_failed']] \n",
    "#best_model, best_score, _ = als.tuneALS(ds_train, ds_val, factors = [10, 20, 30])"
   ]
  },
  {
   "cell_type": "markdown",
   "metadata": {},
   "source": [
    "### Train/Predict"
   ]
  },
  {
   "cell_type": "code",
   "execution_count": null,
   "metadata": {},
   "outputs": [
    {
     "name": "stdout",
     "output_type": "stream",
     "text": [
      "Test users done.\n",
      "Elements filtered out from validation\n",
      "Sparsity: 0.002326\n",
      "Iteration 1 of 1\n"
     ]
    },
    {
     "data": {
      "application/vnd.jupyter.widget-view+json": {
       "model_id": "896f9a0749c8435bbdfbaba53980df83",
       "version_major": 2,
       "version_minor": 0
      },
      "text/plain": [
       "HBox(children=(IntProgress(value=0), HTML(value='')))"
      ]
     },
     "metadata": {},
     "output_type": "display_data"
    }
   ],
   "source": [
    "test_users = du.processTestUsers()\n",
    "rating_params = {'bookmarked': 5, 'purchased': 11, \n",
    "                             'watched_movie': 8, 'watched_series': 9, 'watch_failed': 2}\n",
    "ds_train_all = du.makeTarget(tr, du.processCatalogue(), du.processBookmarks(), du.processRatings(), \n",
    "                             blend_rating=False,\n",
    "                             params = rating_params)\n",
    "\n",
    "final_model, _, t_result = als.tuneALS(ds_train_all, ds_val[:1], factors = [30], t_users=test_users)"
   ]
  },
  {
   "cell_type": "code",
   "execution_count": 5,
   "metadata": {},
   "outputs": [
    {
     "data": {
      "text/plain": [
       "49992"
      ]
     },
     "execution_count": 5,
     "metadata": {},
     "output_type": "execute_result"
    }
   ],
   "source": [
    "len(t_result)"
   ]
  },
  {
   "cell_type": "code",
   "execution_count": 6,
   "metadata": {},
   "outputs": [
    {
     "name": "stdout",
     "output_type": "stream",
     "text": [
      "Saved results als_ensure.json\n",
      "Saved model model_als_ensure.pkl\n"
     ]
    }
   ],
   "source": [
    "import pickle\n",
    "def saveSubmit(name, model, results):\n",
    "    with open('submits/{0}.json'.format(name), 'w') as f:\n",
    "        json.dump(t_result, f)\n",
    "    print('Saved results {0}.json'.format(name))\n",
    "\n",
    "    with open('submits/model_{0}.pkl'.format(name), 'wb') as f:\n",
    "        pickle.dump(model, f)\n",
    "    print('Saved model model_{0}.pkl'.format(name))\n",
    "    \n",
    "saveSubmit('als_ensure', final_model, t_result)\n",
    "    \n"
   ]
  }
 ],
 "metadata": {
  "kernelspec": {
   "display_name": "Python 3",
   "language": "python",
   "name": "python3"
  },
  "language_info": {
   "codemirror_mode": {
    "name": "ipython",
    "version": 3
   },
   "file_extension": ".py",
   "mimetype": "text/x-python",
   "name": "python",
   "nbconvert_exporter": "python",
   "pygments_lexer": "ipython3",
   "version": "3.7.4"
  }
 },
 "nbformat": 4,
 "nbformat_minor": 2
}
