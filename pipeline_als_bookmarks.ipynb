{
 "cells": [
  {
   "cell_type": "code",
   "execution_count": 1,
   "metadata": {},
   "outputs": [],
   "source": [
    "import dataset_utils as du\n",
    "import pandas as pd\n",
    "import matplotlib.pyplot as plt\n",
    "import metric_utils as mu\n",
    "import als_model as als\n",
    "import json\n",
    "import pickle\n",
    "%matplotlib inline"
   ]
  },
  {
   "cell_type": "code",
   "execution_count": 2,
   "metadata": {},
   "outputs": [
    {
     "name": "stdout",
     "output_type": "stream",
     "text": [
      "Train len: 768751\n",
      "Val len: 179465\n"
     ]
    },
    {
     "name": "stderr",
     "output_type": "stream",
     "text": [
      "/Users/u18277461/Documents/repos/rekko-challenge/dataset_utils.py:267: SettingWithCopyWarning: \n",
      "A value is trying to be set on a copy of a slice from a DataFrame.\n",
      "Try using .loc[row_indexer,col_indexer] = value instead\n",
      "\n",
      "See the caveats in the documentation: http://pandas.pydata.org/pandas-docs/stable/user_guide/indexing.html#returning-a-view-versus-a-copy\n",
      "  ds['y'] = 8\n"
     ]
    }
   ],
   "source": [
    "bm = du.processBookmarks()\n",
    "b_train, b_val = du.trainvalTransactions(bm, border=0.80)\n",
    "ds_train = du.makeTargetBookmarks(b_train)\n",
    "ds_val = du.makeTargetBookmarks(b_val)\n",
    "# ds_val = ds_val[ds_val['y'] > 5]\n",
    "print('Train len:', len(ds_train))\n",
    "print('Val len:', len(ds_val))"
   ]
  },
  {
   "cell_type": "code",
   "execution_count": 4,
   "metadata": {},
   "outputs": [
    {
     "data": {
      "text/plain": [
       "147167"
      ]
     },
     "execution_count": 4,
     "metadata": {},
     "output_type": "execute_result"
    }
   ],
   "source": [
    "len(bm['user_uid'].unique())"
   ]
  },
  {
   "cell_type": "code",
   "execution_count": 3,
   "metadata": {},
   "outputs": [
    {
     "name": "stdout",
     "output_type": "stream",
     "text": [
      "Test users done.\n",
      "Elements filtered out from validation\n",
      "Sparsity: 0.000648\n",
      "Iteration 1 of 8\n"
     ]
    },
    {
     "name": "stderr",
     "output_type": "stream",
     "text": [
      "/Users/u18277461/Documents/repos/rekko-challenge/als_model.py:34: SettingWithCopyWarning: \n",
      "A value is trying to be set on a copy of a slice from a DataFrame.\n",
      "Try using .loc[row_indexer,col_indexer] = value instead\n",
      "\n",
      "See the caveats in the documentation: http://pandas.pydata.org/pandas-docs/stable/user_guide/indexing.html#returning-a-view-versus-a-copy\n",
      "  tr_train['user_uid'] = tr_train['user_uid'].astype('category')\n",
      "/Users/u18277461/Documents/repos/rekko-challenge/als_model.py:35: SettingWithCopyWarning: \n",
      "A value is trying to be set on a copy of a slice from a DataFrame.\n",
      "Try using .loc[row_indexer,col_indexer] = value instead\n",
      "\n",
      "See the caveats in the documentation: http://pandas.pydata.org/pandas-docs/stable/user_guide/indexing.html#returning-a-view-versus-a-copy\n",
      "  tr_train['element_uid'] = tr_train['element_uid'].astype('category')\n"
     ]
    },
    {
     "data": {
      "application/vnd.jupyter.widget-view+json": {
       "model_id": "c273cd14a86a44b8a5634ba778b57911",
       "version_major": 2,
       "version_minor": 0
      },
      "text/plain": [
       "HBox(children=(IntProgress(value=0), HTML(value='')))"
      ]
     },
     "metadata": {},
     "output_type": "display_data"
    },
    {
     "name": "stdout",
     "output_type": "stream",
     "text": [
      "\n",
      "Model 1 fitted.\n",
      "Started predict/score ...\n",
      "Predict done.\n",
      "MNAP@20: 0.02387012619925805\n",
      "Best model updated\n",
      "Iteration 2 of 8\n"
     ]
    },
    {
     "data": {
      "application/vnd.jupyter.widget-view+json": {
       "model_id": "a47a2bbb648c48b6ac16615cf6026038",
       "version_major": 2,
       "version_minor": 0
      },
      "text/plain": [
       "HBox(children=(IntProgress(value=0), HTML(value='')))"
      ]
     },
     "metadata": {},
     "output_type": "display_data"
    },
    {
     "name": "stdout",
     "output_type": "stream",
     "text": [
      "\n",
      "Model 2 fitted.\n",
      "Started predict/score ...\n",
      "Predict done.\n",
      "MNAP@20: 0.022594910860978305\n",
      "Iteration 3 of 8\n"
     ]
    },
    {
     "data": {
      "application/vnd.jupyter.widget-view+json": {
       "model_id": "16e6e126126c4788875ce775e25cb082",
       "version_major": 2,
       "version_minor": 0
      },
      "text/plain": [
       "HBox(children=(IntProgress(value=0), HTML(value='')))"
      ]
     },
     "metadata": {},
     "output_type": "display_data"
    },
    {
     "name": "stdout",
     "output_type": "stream",
     "text": [
      "\n",
      "Model 3 fitted.\n",
      "Started predict/score ...\n",
      "Predict done.\n",
      "MNAP@20: 0.023524384532569248\n",
      "Iteration 4 of 8\n"
     ]
    },
    {
     "data": {
      "application/vnd.jupyter.widget-view+json": {
       "model_id": "70d7b972cd6746beb967ca33243e2028",
       "version_major": 2,
       "version_minor": 0
      },
      "text/plain": [
       "HBox(children=(IntProgress(value=0), HTML(value='')))"
      ]
     },
     "metadata": {},
     "output_type": "display_data"
    },
    {
     "name": "stdout",
     "output_type": "stream",
     "text": [
      "\n",
      "Model 4 fitted.\n",
      "Started predict/score ...\n",
      "Predict done.\n",
      "MNAP@20: 0.024025642007575038\n",
      "Best model updated\n",
      "Iteration 5 of 8\n"
     ]
    },
    {
     "data": {
      "application/vnd.jupyter.widget-view+json": {
       "model_id": "c59ce20496494a9daaf36c89880274ad",
       "version_major": 2,
       "version_minor": 0
      },
      "text/plain": [
       "HBox(children=(IntProgress(value=0), HTML(value='')))"
      ]
     },
     "metadata": {},
     "output_type": "display_data"
    },
    {
     "name": "stdout",
     "output_type": "stream",
     "text": [
      "\n",
      "Model 5 fitted.\n",
      "Started predict/score ...\n",
      "Predict done.\n",
      "MNAP@20: 0.024882130612293298\n",
      "Best model updated\n",
      "Iteration 6 of 8\n"
     ]
    },
    {
     "data": {
      "application/vnd.jupyter.widget-view+json": {
       "model_id": "b49c4b232a764a6db6d79d0f669b1c50",
       "version_major": 2,
       "version_minor": 0
      },
      "text/plain": [
       "HBox(children=(IntProgress(value=0), HTML(value='')))"
      ]
     },
     "metadata": {},
     "output_type": "display_data"
    },
    {
     "name": "stdout",
     "output_type": "stream",
     "text": [
      "\n",
      "Model 6 fitted.\n",
      "Started predict/score ...\n",
      "Predict done.\n",
      "MNAP@20: 0.025598908670774273\n",
      "Best model updated\n",
      "Iteration 7 of 8\n"
     ]
    },
    {
     "data": {
      "application/vnd.jupyter.widget-view+json": {
       "model_id": "20a5a6df779840f8ad978760cea36f93",
       "version_major": 2,
       "version_minor": 0
      },
      "text/plain": [
       "HBox(children=(IntProgress(value=0), HTML(value='')))"
      ]
     },
     "metadata": {},
     "output_type": "display_data"
    },
    {
     "name": "stdout",
     "output_type": "stream",
     "text": [
      "\n",
      "Model 7 fitted.\n",
      "Started predict/score ...\n",
      "Predict done.\n",
      "MNAP@20: 0.02272900418177117\n",
      "Iteration 8 of 8\n"
     ]
    },
    {
     "data": {
      "application/vnd.jupyter.widget-view+json": {
       "model_id": "32c52c10278a4eee96452d624c71faa7",
       "version_major": 2,
       "version_minor": 0
      },
      "text/plain": [
       "HBox(children=(IntProgress(value=0), HTML(value='')))"
      ]
     },
     "metadata": {},
     "output_type": "display_data"
    },
    {
     "name": "stdout",
     "output_type": "stream",
     "text": [
      "\n",
      "Model 8 fitted.\n",
      "Started predict/score ...\n",
      "Predict done.\n",
      "MNAP@20: 0.022177556175179827\n"
     ]
    }
   ],
   "source": [
    "best_model, best_score, _ = als.tuneALS(ds_train, ds_val, factors = [3, 4, 5, 6, 7, 8, 9, 10])\n",
    "\n",
    "\n",
    "#\n",
    "# BEST F=5"
   ]
  },
  {
   "cell_type": "code",
   "execution_count": 14,
   "metadata": {},
   "outputs": [],
   "source": [
    "# PREDICT & SUBMIT"
   ]
  },
  {
   "cell_type": "code",
   "execution_count": 5,
   "metadata": {},
   "outputs": [
    {
     "name": "stdout",
     "output_type": "stream",
     "text": [
      "Test users done.\n",
      "Elements filtered out from validation\n",
      "Sparsity: 0.000679\n",
      "Iteration 1 of 1\n"
     ]
    },
    {
     "name": "stderr",
     "output_type": "stream",
     "text": [
      "/Users/u18277461/Documents/repos/rekko-challenge/als_model.py:34: SettingWithCopyWarning: \n",
      "A value is trying to be set on a copy of a slice from a DataFrame.\n",
      "Try using .loc[row_indexer,col_indexer] = value instead\n",
      "\n",
      "See the caveats in the documentation: http://pandas.pydata.org/pandas-docs/stable/user_guide/indexing.html#returning-a-view-versus-a-copy\n",
      "  tr_train['user_uid'] = tr_train['user_uid'].astype('category')\n",
      "/Users/u18277461/Documents/repos/rekko-challenge/als_model.py:35: SettingWithCopyWarning: \n",
      "A value is trying to be set on a copy of a slice from a DataFrame.\n",
      "Try using .loc[row_indexer,col_indexer] = value instead\n",
      "\n",
      "See the caveats in the documentation: http://pandas.pydata.org/pandas-docs/stable/user_guide/indexing.html#returning-a-view-versus-a-copy\n",
      "  tr_train['element_uid'] = tr_train['element_uid'].astype('category')\n"
     ]
    },
    {
     "data": {
      "application/vnd.jupyter.widget-view+json": {
       "model_id": "8eec440ac745403e9aef763b8559fed5",
       "version_major": 2,
       "version_minor": 0
      },
      "text/plain": [
       "HBox(children=(IntProgress(value=0), HTML(value='')))"
      ]
     },
     "metadata": {},
     "output_type": "display_data"
    },
    {
     "name": "stdout",
     "output_type": "stream",
     "text": [
      "\n",
      "Model 1 fitted.\n",
      "Started predict/score ...\n",
      "Predict done.\n",
      "MNAP@20: 0.0\n",
      "Best model updated\n"
     ]
    }
   ],
   "source": [
    "test_users = du.processTestUsers()\n",
    "ds_train_all = du.makeTargetBookmarks(bm)\n",
    "\n",
    "final_model, _, t_result = als.tuneALS(ds_train_all, ds_val[:1], factors = [8], t_users=test_users)"
   ]
  },
  {
   "cell_type": "code",
   "execution_count": 9,
   "metadata": {},
   "outputs": [
    {
     "name": "stdout",
     "output_type": "stream",
     "text": [
      "Saved results als_bookmark_f8.json\n",
      "Saved model model_als_bookmark_f8.pkl\n"
     ]
    }
   ],
   "source": [
    "def saveSubmit(name, model, results):\n",
    "    with open('submits/{0}.json'.format(name), 'w') as f:\n",
    "        json.dump(t_result, f)\n",
    "    print('Saved results {0}.json'.format(name))\n",
    "\n",
    "    with open('submits/model_{0}.pkl'.format(name), 'wb') as f:\n",
    "        pickle.dump(model, f)\n",
    "    print('Saved model model_{0}.pkl'.format(name))\n",
    "    \n",
    "saveSubmit('als_bookmark_f8', final_model, t_result)"
   ]
  }
 ],
 "metadata": {
  "kernelspec": {
   "display_name": "Python 3",
   "language": "python",
   "name": "python3"
  },
  "language_info": {
   "codemirror_mode": {
    "name": "ipython",
    "version": 3
   },
   "file_extension": ".py",
   "mimetype": "text/x-python",
   "name": "python",
   "nbconvert_exporter": "python",
   "pygments_lexer": "ipython3",
   "version": "3.7.4"
  }
 },
 "nbformat": 4,
 "nbformat_minor": 2
}
