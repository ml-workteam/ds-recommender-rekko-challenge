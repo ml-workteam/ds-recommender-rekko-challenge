{
 "cells": [
  {
   "cell_type": "code",
   "execution_count": 1,
   "metadata": {},
   "outputs": [],
   "source": [
    "import dataset_utils as du\n",
    "import pandas as pd\n",
    "import matplotlib.pyplot as plt\n",
    "import metric_utils as mu\n",
    "import als_model as als\n",
    "import json\n",
    "import pickle\n",
    "%matplotlib inline"
   ]
  },
  {
   "cell_type": "code",
   "execution_count": 2,
   "metadata": {},
   "outputs": [
    {
     "name": "stdout",
     "output_type": "stream",
     "text": [
      "Train len: 365087\n",
      "Val len: 65505\n"
     ]
    },
    {
     "name": "stderr",
     "output_type": "stream",
     "text": [
      "/Users/u18277461/Documents/repos/rekko-challenge/dataset_utils.py:263: SettingWithCopyWarning: \n",
      "A value is trying to be set on a copy of a slice from a DataFrame.\n",
      "Try using .loc[row_indexer,col_indexer] = value instead\n",
      "\n",
      "See the caveats in the documentation: http://pandas.pydata.org/pandas-docs/stable/user_guide/indexing.html#returning-a-view-versus-a-copy\n",
      "  ds['y'] = ds['rating']\n"
     ]
    }
   ],
   "source": [
    "ratings = du.processRatings()\n",
    "r_train, r_val = du.trainvalTransactions(ratings, border=0.80)\n",
    "ds_train = du.makeTargetRating(r_train)\n",
    "ds_val = du.makeTargetRating(r_val)\n",
    "ds_val = ds_val[ds_val['y'] > 5]\n",
    "print('Train len:', len(ds_train))\n",
    "print('Val len:', len(ds_val))"
   ]
  },
  {
   "cell_type": "code",
   "execution_count": 11,
   "metadata": {},
   "outputs": [
    {
     "name": "stdout",
     "output_type": "stream",
     "text": [
      "Test users done.\n",
      "Elements filtered out from validation\n",
      "Sparsity: 0.000544\n",
      "Iteration 1 of 2\n"
     ]
    },
    {
     "name": "stderr",
     "output_type": "stream",
     "text": [
      "/Users/u18277461/Documents/repos/rekko-challenge/als_model.py:33: SettingWithCopyWarning: \n",
      "A value is trying to be set on a copy of a slice from a DataFrame.\n",
      "Try using .loc[row_indexer,col_indexer] = value instead\n",
      "\n",
      "See the caveats in the documentation: http://pandas.pydata.org/pandas-docs/stable/user_guide/indexing.html#returning-a-view-versus-a-copy\n",
      "  tr_train['user_uid'] = tr_train['user_uid'].astype('category')\n",
      "/Users/u18277461/Documents/repos/rekko-challenge/als_model.py:34: SettingWithCopyWarning: \n",
      "A value is trying to be set on a copy of a slice from a DataFrame.\n",
      "Try using .loc[row_indexer,col_indexer] = value instead\n",
      "\n",
      "See the caveats in the documentation: http://pandas.pydata.org/pandas-docs/stable/user_guide/indexing.html#returning-a-view-versus-a-copy\n",
      "  tr_train['element_uid'] = tr_train['element_uid'].astype('category')\n"
     ]
    },
    {
     "data": {
      "application/vnd.jupyter.widget-view+json": {
       "model_id": "bc2f230cb58f47d180651210f07cf5f5",
       "version_major": 2,
       "version_minor": 0
      },
      "text/plain": [
       "HBox(children=(IntProgress(value=0), HTML(value='')))"
      ]
     },
     "metadata": {},
     "output_type": "display_data"
    },
    {
     "name": "stdout",
     "output_type": "stream",
     "text": [
      "\n",
      "Model 1 fitted.\n",
      "Started predict/score ...\n",
      "Predict done.\n",
      "MNAP@20: 0.029754151276486375\n",
      "Best model updated\n",
      "Iteration 2 of 2\n"
     ]
    },
    {
     "data": {
      "application/vnd.jupyter.widget-view+json": {
       "model_id": "65178b2772c54645984953d35faa1c90",
       "version_major": 2,
       "version_minor": 0
      },
      "text/plain": [
       "HBox(children=(IntProgress(value=0), HTML(value='')))"
      ]
     },
     "metadata": {},
     "output_type": "display_data"
    },
    {
     "name": "stdout",
     "output_type": "stream",
     "text": [
      "\n",
      "Model 2 fitted.\n",
      "Started predict/score ...\n",
      "Predict done.\n",
      "MNAP@20: 0.0315498237787785\n",
      "Best model updated\n"
     ]
    }
   ],
   "source": [
    "best_model, best_score, _ = als.tuneALS(ds_train, ds_val, factors = [3, 4])\n",
    "# f=3: MNAP@20: 0.029754151276486375\n",
    "# f=4: MNAP@20: 0.031523156072250674\n",
    "# f=5: MNAP@20: 0.0346529314836487\n",
    "# f=6: MNAP@20: 0.03408368346022049\n",
    "# f=7: MNAP@20: 0.033711182310522746\n",
    "# f=8: MNAP@20: 0.03312585901787205\n",
    "# f=10: MNAP@20: 0.032622348762988515\n",
    "# f=20: MNAP@20: 0.030265564081234594\n",
    "# f=30: MNAP@20: 0.029549124691366124\n",
    "\n",
    "#\n",
    "# BEST F=5"
   ]
  },
  {
   "cell_type": "code",
   "execution_count": 14,
   "metadata": {},
   "outputs": [],
   "source": [
    "# PREDICT & SUBMIT"
   ]
  },
  {
   "cell_type": "code",
   "execution_count": 3,
   "metadata": {},
   "outputs": [
    {
     "name": "stdout",
     "output_type": "stream",
     "text": [
      "Test users done.\n",
      "Elements filtered out from validation\n",
      "Sparsity: 0.000558\n",
      "Iteration 1 of 1\n"
     ]
    },
    {
     "name": "stderr",
     "output_type": "stream",
     "text": [
      "/Users/u18277461/Documents/repos/rekko-challenge/als_model.py:34: SettingWithCopyWarning: \n",
      "A value is trying to be set on a copy of a slice from a DataFrame.\n",
      "Try using .loc[row_indexer,col_indexer] = value instead\n",
      "\n",
      "See the caveats in the documentation: http://pandas.pydata.org/pandas-docs/stable/user_guide/indexing.html#returning-a-view-versus-a-copy\n",
      "  tr_train['user_uid'] = tr_train['user_uid'].astype('category')\n",
      "/Users/u18277461/Documents/repos/rekko-challenge/als_model.py:35: SettingWithCopyWarning: \n",
      "A value is trying to be set on a copy of a slice from a DataFrame.\n",
      "Try using .loc[row_indexer,col_indexer] = value instead\n",
      "\n",
      "See the caveats in the documentation: http://pandas.pydata.org/pandas-docs/stable/user_guide/indexing.html#returning-a-view-versus-a-copy\n",
      "  tr_train['element_uid'] = tr_train['element_uid'].astype('category')\n"
     ]
    },
    {
     "data": {
      "application/vnd.jupyter.widget-view+json": {
       "model_id": "96359c4a13fb452fa07f0eff27d83a54",
       "version_major": 2,
       "version_minor": 0
      },
      "text/plain": [
       "HBox(children=(IntProgress(value=0), HTML(value='')))"
      ]
     },
     "metadata": {},
     "output_type": "display_data"
    },
    {
     "name": "stdout",
     "output_type": "stream",
     "text": [
      "\n",
      "Model 1 fitted.\n",
      "Started predict/score ...\n",
      "Predict done.\n",
      "MNAP@20: 0.0\n",
      "Best model updated\n"
     ]
    }
   ],
   "source": [
    "test_users = du.processTestUsers()\n",
    "ds_train_all = du.makeTargetRating(ratings)\n",
    "\n",
    "final_model, _, t_result = als.tuneALS(ds_train_all, ds_val[:1], factors = [5], t_users=test_users)"
   ]
  },
  {
   "cell_type": "code",
   "execution_count": 5,
   "metadata": {},
   "outputs": [],
   "source": [
    "def saveSubmit(name, model, results):\n",
    "    with open('submits/{0}.json'.format(name), 'w') as f:\n",
    "        json.dump(t_result, f)\n",
    "    print('Saved results {0}.json'.format(name))\n",
    "\n",
    "    with open('submits/model_{0}.pkl'.format(name), 'wb') as f:\n",
    "        pickle.dump(model, f)\n",
    "    print('Saved model model_{0}.pkl'.format(name))"
   ]
  },
  {
   "cell_type": "code",
   "execution_count": 6,
   "metadata": {},
   "outputs": [
    {
     "name": "stdout",
     "output_type": "stream",
     "text": [
      "Saved results als_rating_f5.json\n",
      "Saved model model_als_rating_f5.pkl\n"
     ]
    }
   ],
   "source": [
    "saveSubmit('als_rating_f5', final_model, t_result)"
   ]
  }
 ],
 "metadata": {
  "kernelspec": {
   "display_name": "Python 3",
   "language": "python",
   "name": "python3"
  },
  "language_info": {
   "codemirror_mode": {
    "name": "ipython",
    "version": 3
   },
   "file_extension": ".py",
   "mimetype": "text/x-python",
   "name": "python",
   "nbconvert_exporter": "python",
   "pygments_lexer": "ipython3",
   "version": "3.7.4"
  }
 },
 "nbformat": 4,
 "nbformat_minor": 2
}
