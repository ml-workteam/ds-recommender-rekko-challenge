{
 "cells": [
  {
   "cell_type": "markdown",
   "metadata": {},
   "source": [
    "### ALS on Transactions\n",
    "Plus blend options for Ratings, Bookmarks"
   ]
  },
  {
   "cell_type": "code",
   "execution_count": 1,
   "metadata": {},
   "outputs": [],
   "source": [
    "import dataset_utils as du\n",
    "import pandas as pd\n",
    "import matplotlib.pyplot as plt\n",
    "import metric_utils as mu\n",
    "import als_model as als\n",
    "import json\n",
    "%matplotlib inline"
   ]
  },
  {
   "cell_type": "markdown",
   "metadata": {},
   "source": [
    "### Tune Parameters"
   ]
  },
  {
   "cell_type": "code",
   "execution_count": 3,
   "metadata": {},
   "outputs": [],
   "source": [
    "tr = du.processTransactions(use_cashe=True)\n",
    "tr_train, tr_val = du.trainvalTransactions(tr, border=0.95)\n",
    "# these params perform best:\n",
    "rating_params = {'bookmarked': 7, 'purchased': 11, \n",
    "                             'watched_movie': 8, 'watched_series': 9, 'watch_failed': 2}\n",
    "\n",
    "# try this mix\n",
    "# rating_params = {'bookmarked': 5, 'purchased': 10, \n",
    "#                              'watched_movie': 8, 'watched_series': 9, 'watch_failed': 1}\n",
    "ds_train = du.makeTarget(tr_train, du.processCatalogue(), du.processBookmarks(), du.processRatings(), params = rating_params)\n",
    "ds_val = du.makeTarget(tr_val, du.processCatalogue(), du.processBookmarks(), du.processRatings(), params = rating_params)\n",
    "ds_val = ds_val[ds_val['tr_rating'] > rating_params['watch_failed']] \n",
    "best_model, best_score, _ = als.tuneALS(ds_train, ds_val, factors = [10, 20, 30])"
   ]
  },
  {
   "cell_type": "markdown",
   "metadata": {},
   "source": [
    "### Train/Predict"
   ]
  },
  {
   "cell_type": "code",
   "execution_count": 7,
   "metadata": {},
   "outputs": [
    {
     "name": "stdout",
     "output_type": "stream",
     "text": [
      "Test users done.\n",
      "Elements filtered out from validation\n",
      "Sparsity: 0.002326\n",
      "Iteration 1 of 1\n"
     ]
    },
    {
     "data": {
      "application/vnd.jupyter.widget-view+json": {
       "model_id": "896f9a0749c8435bbdfbaba53980df83",
       "version_major": 2,
       "version_minor": 0
      },
      "text/plain": [
       "HBox(children=(IntProgress(value=0), HTML(value='')))"
      ]
     },
     "metadata": {},
     "output_type": "display_data"
    },
    {
     "name": "stdout",
     "output_type": "stream",
     "text": [
      "\n",
      "Model 1 fitted.\n",
      "Started predict/score ...\n",
      "Predict done.\n",
      "MNAP@20: 0.0\n",
      "Best model updated\n"
     ]
    }
   ],
   "source": [
    "test_users = du.processTestUsers()\n",
    "rating_params = {'bookmarked': 5, 'purchased': 11, \n",
    "                             'watched_movie': 8, 'watched_series': 9, 'watch_failed': 2}\n",
    "ds_train_all = du.makeTarget(tr, du.processCatalogue(), du.processBookmarks(), du.processRatings(), \n",
    "                             blend_rating=False,\n",
    "                             params = rating_params)\n",
    "\n",
    "final_model, _, t_result = als.tuneALS(ds_train_all, ds_val[:1], factors = [30], t_users=test_users)"
   ]
  },
  {
   "cell_type": "code",
   "execution_count": 5,
   "metadata": {},
   "outputs": [
    {
     "data": {
      "text/plain": [
       "49992"
      ]
     },
     "execution_count": 5,
     "metadata": {},
     "output_type": "execute_result"
    }
   ],
   "source": [
    "len(t_result)"
   ]
  },
  {
   "cell_type": "code",
   "execution_count": 6,
   "metadata": {},
   "outputs": [
    {
     "name": "stdout",
     "output_type": "stream",
     "text": [
      "Saved results als_ensure.json\n",
      "Saved model model_als_ensure.pkl\n"
     ]
    }
   ],
   "source": [
    "import pickle\n",
    "def saveSubmit(name, model, results):\n",
    "    with open('submits/{0}.json'.format(name), 'w') as f:\n",
    "        json.dump(results, f)\n",
    "    print('Saved results {0}.json'.format(name))\n",
    "\n",
    "    with open('submits/model_{0}.pkl'.format(name), 'wb') as f:\n",
    "        pickle.dump(model, f)\n",
    "    print('Saved model model_{0}.pkl'.format(name))\n",
    "    \n",
    "saveSubmit('als_ensure', final_model, t_result)\n",
    "    \n"
   ]
  }
 ],
 "metadata": {
  "kernelspec": {
   "display_name": "Python 3",
   "language": "python",
   "name": "python3"
  },
  "language_info": {
   "codemirror_mode": {
    "name": "ipython",
    "version": 3
   },
   "file_extension": ".py",
   "mimetype": "text/x-python",
   "name": "python",
   "nbconvert_exporter": "python",
   "pygments_lexer": "ipython3",
   "version": "3.7.4"
  }
 },
 "nbformat": 4,
 "nbformat_minor": 2
}
