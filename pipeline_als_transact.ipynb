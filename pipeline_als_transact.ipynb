{
 "cells": [
  {
   "cell_type": "code",
   "execution_count": 1,
   "metadata": {},
   "outputs": [],
   "source": [
    "import dataset_utils as du\n",
    "import pandas as pd\n",
    "import matplotlib.pyplot as plt\n",
    "import metric_utils as mu\n",
    "import als_model as als\n",
    "import json\n",
    "%matplotlib inline"
   ]
  },
  {
   "cell_type": "code",
   "execution_count": 2,
   "metadata": {},
   "outputs": [
    {
     "name": "stdout",
     "output_type": "stream",
     "text": [
      "Test users done.\n",
      "Elements filtered out from validation\n",
      "Sparsity: 0.002251\n",
      "Iteration 1 of 3\n"
     ]
    },
    {
     "data": {
      "application/vnd.jupyter.widget-view+json": {
       "model_id": "6551ede6f9274a09b3fd5c428cf809f8",
       "version_major": 2,
       "version_minor": 0
      },
      "text/plain": [
       "HBox(children=(IntProgress(value=0), HTML(value='')))"
      ]
     },
     "metadata": {},
     "output_type": "display_data"
    },
    {
     "name": "stdout",
     "output_type": "stream",
     "text": [
      "\n",
      "Model 1 fitted.\n",
      "Started predict/score ...\n",
      "Predict done.\n",
      "MNAP@20: 0.030943752994982598\n",
      "Best model updated\n",
      "Iteration 2 of 3\n"
     ]
    },
    {
     "data": {
      "application/vnd.jupyter.widget-view+json": {
       "model_id": "8e7fa6b6f55b49fa9bd83f46bca21cb9",
       "version_major": 2,
       "version_minor": 0
      },
      "text/plain": [
       "HBox(children=(IntProgress(value=0), HTML(value='')))"
      ]
     },
     "metadata": {},
     "output_type": "display_data"
    },
    {
     "name": "stdout",
     "output_type": "stream",
     "text": [
      "\n",
      "Model 2 fitted.\n",
      "Started predict/score ...\n",
      "Predict done.\n",
      "MNAP@20: 0.03317734995635604\n",
      "Best model updated\n",
      "Iteration 3 of 3\n"
     ]
    },
    {
     "data": {
      "application/vnd.jupyter.widget-view+json": {
       "model_id": "b28d26fb826a4406b0bd7e705e87a33a",
       "version_major": 2,
       "version_minor": 0
      },
      "text/plain": [
       "HBox(children=(IntProgress(value=0), HTML(value='')))"
      ]
     },
     "metadata": {},
     "output_type": "display_data"
    },
    {
     "name": "stdout",
     "output_type": "stream",
     "text": [
      "\n",
      "Model 3 fitted.\n",
      "Started predict/score ...\n",
      "Predict done.\n",
      "MNAP@20: 0.03366274916152956\n",
      "Best model updated\n"
     ]
    }
   ],
   "source": [
    "tr = du.processTransactions(use_cashe=True)\n",
    "tr_train, tr_val = du.trainvalTransactions(tr, border=0.95)\n",
    "# these params perform best:\n",
    "rating_params = {'bookmarked': 7, 'purchased': 11, \n",
    "                             'watched_movie': 8, 'watched_series': 9, 'watch_failed': 2}\n",
    "ds_train = du.makeTarget(tr_train, du.processCatalogue(), du.processBookmarks(), du.processRatings(), params = rating_params)\n",
    "ds_val = du.makeTarget(tr_val, du.processCatalogue(), du.processBookmarks(), du.processRatings(), params = rating_params)\n",
    "ds_val = ds_val[ds_val['y'] > 2]\n",
    "best_model, best_score, _ = als.tuneALS(ds_train, ds_val, factors = [10, 20, 30])"
   ]
  },
  {
   "cell_type": "code",
   "execution_count": 4,
   "metadata": {},
   "outputs": [
    {
     "name": "stdout",
     "output_type": "stream",
     "text": [
      "Test users done.\n",
      "Elements filtered out from validation\n",
      "Sparsity: 0.002326\n",
      "Iteration 1 of 1\n"
     ]
    },
    {
     "data": {
      "application/vnd.jupyter.widget-view+json": {
       "model_id": "fe67641aa3d34f17859c52f60dd2c927",
       "version_major": 2,
       "version_minor": 0
      },
      "text/plain": [
       "HBox(children=(IntProgress(value=0), HTML(value='')))"
      ]
     },
     "metadata": {},
     "output_type": "display_data"
    },
    {
     "name": "stdout",
     "output_type": "stream",
     "text": [
      "\n",
      "Model 1 fitted.\n",
      "Started predict/score ...\n",
      "Predict done.\n",
      "MNAP@20: 0.0\n",
      "Best model updated\n"
     ]
    }
   ],
   "source": [
    "test_users = du.processTestUsers()\n",
    "ds_train_all = du.makeTarget(tr, du.processCatalogue(), du.processBookmarks(), du.processRatings())\n",
    "\n",
    "final_model, _, t_result = als.tuneALS(ds_train_all, ds_val[:1], factors = [30], t_users=test_users)"
   ]
  },
  {
   "cell_type": "code",
   "execution_count": 5,
   "metadata": {},
   "outputs": [
    {
     "data": {
      "text/plain": [
       "49992"
      ]
     },
     "execution_count": 5,
     "metadata": {},
     "output_type": "execute_result"
    }
   ],
   "source": [
    "len(t_result)"
   ]
  },
  {
   "cell_type": "code",
   "execution_count": 6,
   "metadata": {},
   "outputs": [],
   "source": [
    "with open('answer_als_rating2.json', 'w') as f:\n",
    "    json.dump(t_result, f)"
   ]
  }
 ],
 "metadata": {
  "kernelspec": {
   "display_name": "Python 3",
   "language": "python",
   "name": "python3"
  },
  "language_info": {
   "codemirror_mode": {
    "name": "ipython",
    "version": 3
   },
   "file_extension": ".py",
   "mimetype": "text/x-python",
   "name": "python",
   "nbconvert_exporter": "python",
   "pygments_lexer": "ipython3",
   "version": "3.7.4"
  }
 },
 "nbformat": 4,
 "nbformat_minor": 2
}
